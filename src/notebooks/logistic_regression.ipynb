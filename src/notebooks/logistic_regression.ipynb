{
 "cells": [
  {
   "cell_type": "code",
   "execution_count": 1,
   "metadata": {},
   "outputs": [
    {
     "name": "stderr",
     "output_type": "stream",
     "text": [
      "<ipython-input-1-d1045395b495>:25: MatplotlibDeprecationWarning: Adding an axes using the same arguments as a previous axes currently reuses the earlier instance.  In a future version, a new instance will always be created and returned.  Meanwhile, this warning can be suppressed, and the future behavior ensured, by passing a unique label to each axes instance.\n",
      "  spam_plot = fig.add_subplot()\n"
     ]
    },
    {
     "data": {
      "text/plain": "<matplotlib.collections.PathCollection at 0x7f45a090d580>"
     },
     "execution_count": 1,
     "metadata": {},
     "output_type": "execute_result"
    },
    {
     "data": {
      "text/plain": "<Figure size 432x288 with 1 Axes>",
      "image/png": "[encoded data removed]"
     },
     "metadata": {
      "needs_background": "light"
     },
     "output_type": "display_data"
    }
   ],
   "source": [
    "import pandas as pd\n",
    "import matplotlib.pyplot as plt\n",
    "from tensorflow.keras.utils import get_file\n",
    "\n",
    "csv_file = get_file('spam-email-1.csv',\n",
    "                    'https://raw.githubusercontent.com/BlackLight/mlbook-code/master/datasets/spam-email-1.csv')\n",
    "\n",
    "with open(csv_file) as f:\n",
    "    data = pd.read_csv(f)\n",
    "\n",
    "# Split spam and non-spam rows\n",
    "spam = data[data['is_spam'] == 1]\n",
    "non_spam = data[data['is_spam'] == 0]\n",
    "\n",
    "columns = data.keys()\n",
    "fig = plt.figure()\n",
    "\n",
    "# Plot the non-spam data points in blue\n",
    "non_spam_plot = fig.add_subplot()\n",
    "non_spam_plot.set_xlabel(columns[0])\n",
    "non_spam_plot.set_ylabel(columns[1])\n",
    "non_spam_plot.scatter(non_spam[columns[0]], non_spam[columns[1]], c='b')\n",
    "\n",
    "# Plot the spam data points in red\n",
    "spam_plot = fig.add_subplot()\n",
    "spam_plot.scatter(spam[columns[0]], spam[columns[1]], c='r')\n",
    "# fig.savefig('/home/blacklight/logistic-regression-1.png')"
   ]
  },
  {
   "cell_type": "code",
   "execution_count": 65,
   "outputs": [
    {
     "name": "stderr",
     "output_type": "stream",
     "text": [
      "<ipython-input-65-4781ce24e3c0>:11: MatplotlibDeprecationWarning: Adding an axes using the same arguments as a previous axes currently reuses the earlier instance.  In a future version, a new instance will always be created and returned.  Meanwhile, this warning can be suppressed, and the future behavior ensured, by passing a unique label to each axes instance.\n",
      "  negative_plot = fig.add_subplot()\n"
     ]
    },
    {
     "data": {
      "text/plain": "<Figure size 432x288 with 1 Axes>",
      "image/png": "[encoded data removed]"
     },
     "metadata": {
      "needs_background": "light"
     },
     "output_type": "display_data"
    }
   ],
   "source": [
    "fig = plt.figure()\n",
    "\n",
    "# Plot the non-spam data points in blue\n",
    "positive_plot = fig.add_subplot()\n",
    "positive_plot.scatter(\n",
    "    [5.0, 6.0, 7.0, 5.0, 5.5, 6.0, 6.5, 6.0, 6.5, 6.0, 6.0, 5.5, 5.0, 4.5, 5.5, 4.0, 4.2, 5.5, 5.5, 5.7, 4.5, 4.0, 3.5, 3.0, 4.5, 4.2],\n",
    "    [8.0, 9.0, 6.0, 7.0, 6.5, 8.0, 7.0, 6.0, 4.5, 5.0, 4.0, 5.5, 5.0, 6.0, 8.5, 5.0, 7.0, 5.5, 4.0, 7.5, 8.5, 9.0, 9.2, 8.8, 5.0, 8.0],\n",
    "    c='r')\n",
    "\n",
    "# Plot the spam data points in red\n",
    "negative_plot = fig.add_subplot()\n",
    "negative_plot.scatter(\n",
    "    [1.0, 2.0, 2.0, 3.0, 2.0, 1.5, 1.5, 2.5, 3.0, 2.5, 3.5, 4.0, 4.0, 4.5, 3.5, 3.5, 3.2, 5.0, 6.0, 5.5, 6.5, 1.5, 2.5, 1.7, 2.5, 4.0, 5.0],\n",
    "    [2.0, 3.0, 4.0, 5.0, 5.0, 6.0, 4.0, 7.0, 3.0, 8.0, 3.0, 2.0, 6.0, 4.0, 4.0, 8.0, 6.5, 3.0, 3.0, 2.5, 2.5, 8.5, 4.0, 7.0, 6.0, 4.0, 4.0],\n",
    "    c='b')\n",
    "\n",
    "fig.savefig('/home/blacklight/non-linear-boundary-2.png')"
   ],
   "metadata": {
    "collapsed": false,
    "pycharm": {
     "name": "#%%\n"
    }
   }
  },
  {
   "cell_type": "code",
   "execution_count": null,
   "outputs": [],
   "source": [
    "dataset_stats = data.describe()\n",
    "dataset_stats"
   ],
   "metadata": {
    "collapsed": false,
    "pycharm": {
     "name": "#%%\n"
    }
   }
  },
  {
   "cell_type": "code",
   "execution_count": 3,
   "metadata": {
    "pycharm": {
     "is_executing": false,
     "name": "#%%\n"
    }
   },
   "outputs": [],
   "source": [
    "def normalize(x, stats):\n",
    "    return (x - stats['mean']) / stats['std']\n",
    "\n",
    "def denormalize(x, stats):\n",
    "    return stats['std'] * x + stats['mean']"
   ]
  },
  {
   "cell_type": "code",
   "execution_count": 62,
   "outputs": [],
   "source": [
    "import math\n",
    "import numpy as np\n",
    "\n",
    "def h(theta):\n",
    "    \"\"\"\n",
    "    Return the hypothesis function associated to\n",
    "    the parameters theta\n",
    "    \"\"\"\n",
    "\n",
    "    def _model(x):\n",
    "        \"\"\"\n",
    "        Return the hypothesis for an input vector x\n",
    "        given the parameters theta. Note that we use\n",
    "        numpy.dot here as a more compact way to\n",
    "        represent the scalar product theta*x\n",
    "        \"\"\"\n",
    "        return 1./(1 + math.exp(-np.dot(theta, x)))\n",
    "\n",
    "    return _model\n",
    "\n",
    "def gradient_descent(x, y, theta, alpha):\n",
    "    \"\"\"\n",
    "    Perform the gradient descent.\n",
    "\n",
    "    :param x: Array of input vectors\n",
    "    :param y: Output vector\n",
    "    :param theta: Values for theta\n",
    "    :param alpha: Learning rate\n",
    "    \"\"\"\n",
    "\n",
    "    # Number of samples\n",
    "    m = len(x)\n",
    "    # Number of features+1\n",
    "    n = len(theta)\n",
    "    new_theta = np.zeros(n)\n",
    "\n",
    "    # Perform the gradient descent on theta\n",
    "    for j in range(n):\n",
    "        for i in range(m):\n",
    "            new_theta[j] += (h(theta)(x[i]) - y[i]) * x[i][j]\n",
    "        new_theta[j] = theta[j] - (alpha/m) * new_theta[j]\n",
    "\n",
    "    return new_theta\n",
    "\n",
    "def train(x, y, epochs, alpha=0.001):\n",
    "    \"\"\"\n",
    "    Train a model on the specified dataset\n",
    "\n",
    "    :param x: Array of normalized input vectors\n",
    "    :param y: Normalized output vector\n",
    "    :param epochs: Number of training iterations\n",
    "    :param alpha: Learning rate\n",
    "    \"\"\"\n",
    "    # Set x0=1\n",
    "    new_x = np.ones((x.shape[0], x.shape[1]+1))\n",
    "    new_x[:, 1:] = x\n",
    "    x = new_x\n",
    "\n",
    "    # Initialize theta randomly\n",
    "    theta = np.random.randint(low=0, high=10, size=len(x[0]))\n",
    "\n",
    "    # Perform the gradient descent <epochs> times\n",
    "    for i in range(epochs):\n",
    "        theta = gradient_descent(x, y, theta, alpha)\n",
    "\n",
    "    # Return the hypothesis function associated to\n",
    "    # the parameters theta\n",
    "    return h(theta)\n",
    "\n",
    "def predict(x, stats, model, boolean=True):\n",
    "    \"\"\"\n",
    "    Make a prediction given a model and an input vector\n",
    "    \"\"\"\n",
    "\n",
    "    # Normalize the values\n",
    "    x = normalize(x, stats).values\n",
    "    # Set x0=1\n",
    "    x = np.insert(x, 0, 1.)\n",
    "\n",
    "    ret = model(x)\n",
    "    if not boolean:\n",
    "        return ret\n",
    "    return ret >= 0.5"
   ],
   "metadata": {
    "collapsed": false,
    "pycharm": {
     "name": "#%%\n",
     "is_executing": false
    }
   }
  },
  {
   "cell_type": "code",
   "execution_count": 107,
   "outputs": [],
   "source": [
    "def evaluate(x, y, stats, model):\n",
    "    \"\"\"\n",
    "    Evaluate the accuracy of a model.\n",
    "\n",
    "    :param x: Array of input vectors\n",
    "    :param y: Vector of expected outputs\n",
    "    :param stats: Input normalization stats\n",
    "    :param model: Hypothesis function\n",
    "    \"\"\"\n",
    "    n_samples = len(x)\n",
    "    ok_samples = 0\n",
    "\n",
    "    for i, row in x.iterrows():\n",
    "        expected = y[i]\n",
    "        predicted = predict(row, stats, model)\n",
    "        if expected == predicted:\n",
    "            ok_samples += 1\n",
    "\n",
    "    return ok_samples/n_samples"
   ],
   "metadata": {
    "collapsed": false,
    "pycharm": {
     "name": "#%%\n",
     "is_executing": false
    }
   }
  },
  {
   "cell_type": "code",
   "execution_count": 117,
   "outputs": [],
   "source": [
    "columns = dataset_stats.keys()\n",
    "# x contains the input features (first two columns)\n",
    "inputs = data.loc[:, columns[:2]]\n",
    "# y contains the output features (last column)\n",
    "outputs = data.loc[:, columns[2]]\n",
    "\n",
    "x_stats = inputs.describe().transpose()\n",
    "y_stats = outputs.describe().transpose()\n",
    "\n",
    "norm_x = normalize(inputs, x_stats)\n",
    "norm_y = normalize(outputs, y_stats)"
   ],
   "metadata": {
    "collapsed": false,
    "pycharm": {
     "name": "#%%\n",
     "is_executing": false
    }
   }
  },
  {
   "cell_type": "code",
   "execution_count": 118,
   "outputs": [
    {
     "traceback": [
      "\u001B[0;31m---------------------------------------------------------------------------\u001B[0m",
      "\u001B[0;31mKeyError\u001B[0m                                  Traceback (most recent call last)",
      "\u001B[0;32m~/projects/mlbook/venv/lib/python3.8/site-packages/pandas/core/indexes/base.py\u001B[0m in \u001B[0;36mget_loc\u001B[0;34m(self, key, method, tolerance)\u001B[0m\n\u001B[1;32m   2645\u001B[0m             \u001B[0;32mtry\u001B[0m\u001B[0;34m:\u001B[0m\u001B[0;34m\u001B[0m\u001B[0;34m\u001B[0m\u001B[0m\n\u001B[0;32m-> 2646\u001B[0;31m                 \u001B[0;32mreturn\u001B[0m \u001B[0mself\u001B[0m\u001B[0;34m.\u001B[0m\u001B[0m_engine\u001B[0m\u001B[0;34m.\u001B[0m\u001B[0mget_loc\u001B[0m\u001B[0;34m(\u001B[0m\u001B[0mkey\u001B[0m\u001B[0;34m)\u001B[0m\u001B[0;34m\u001B[0m\u001B[0;34m\u001B[0m\u001B[0m\n\u001B[0m\u001B[1;32m   2647\u001B[0m             \u001B[0;32mexcept\u001B[0m \u001B[0mKeyError\u001B[0m\u001B[0;34m:\u001B[0m\u001B[0;34m\u001B[0m\u001B[0;34m\u001B[0m\u001B[0m\n",
      "\u001B[0;32mpandas/_libs/index.pyx\u001B[0m in \u001B[0;36mpandas._libs.index.IndexEngine.get_loc\u001B[0;34m()\u001B[0m\n",
      "\u001B[0;32mpandas/_libs/index.pyx\u001B[0m in \u001B[0;36mpandas._libs.index.IndexEngine.get_loc\u001B[0;34m()\u001B[0m\n",
      "\u001B[0;32mpandas/_libs/hashtable_class_helper.pxi\u001B[0m in \u001B[0;36mpandas._libs.hashtable.PyObjectHashTable.get_item\u001B[0;34m()\u001B[0m\n",
      "\u001B[0;32mpandas/_libs/hashtable_class_helper.pxi\u001B[0m in \u001B[0;36mpandas._libs.hashtable.PyObjectHashTable.get_item\u001B[0;34m()\u001B[0m\n",
      "\u001B[0;31mKeyError\u001B[0m: 0",
      "\nDuring handling of the above exception, another exception occurred:\n",
      "\u001B[0;31mKeyError\u001B[0m                                  Traceback (most recent call last)",
      "\u001B[0;32m<ipython-input-118-36e2120a8369>\u001B[0m in \u001B[0;36m<module>\u001B[0;34m\u001B[0m\n\u001B[0;32m----> 1\u001B[0;31m \u001B[0mspam_classifier\u001B[0m \u001B[0;34m=\u001B[0m \u001B[0mtrain\u001B[0m\u001B[0;34m(\u001B[0m\u001B[0mnorm_x\u001B[0m\u001B[0;34m,\u001B[0m \u001B[0mnorm_y\u001B[0m\u001B[0;34m,\u001B[0m \u001B[0;36m100\u001B[0m\u001B[0;34m)\u001B[0m\u001B[0;34m\u001B[0m\u001B[0;34m\u001B[0m\u001B[0m\n\u001B[0m\u001B[1;32m      2\u001B[0m \u001B[0mspam_classifier\u001B[0m\u001B[0;34m\u001B[0m\u001B[0;34m\u001B[0m\u001B[0m\n\u001B[1;32m      3\u001B[0m \u001B[0;34m\u001B[0m\u001B[0m\n",
      "\u001B[0;32m<ipython-input-62-af691d810c4e>\u001B[0m in \u001B[0;36mtrain\u001B[0;34m(x, y, epochs, alpha)\u001B[0m\n\u001B[1;32m     62\u001B[0m     \u001B[0;31m# Perform the gradient descent <epochs> times\u001B[0m\u001B[0;34m\u001B[0m\u001B[0;34m\u001B[0m\u001B[0;34m\u001B[0m\u001B[0m\n\u001B[1;32m     63\u001B[0m     \u001B[0;32mfor\u001B[0m \u001B[0mi\u001B[0m \u001B[0;32min\u001B[0m \u001B[0mrange\u001B[0m\u001B[0;34m(\u001B[0m\u001B[0mepochs\u001B[0m\u001B[0;34m)\u001B[0m\u001B[0;34m:\u001B[0m\u001B[0;34m\u001B[0m\u001B[0;34m\u001B[0m\u001B[0m\n\u001B[0;32m---> 64\u001B[0;31m         \u001B[0mtheta\u001B[0m \u001B[0;34m=\u001B[0m \u001B[0mgradient_descent\u001B[0m\u001B[0;34m(\u001B[0m\u001B[0mx\u001B[0m\u001B[0;34m,\u001B[0m \u001B[0my\u001B[0m\u001B[0;34m,\u001B[0m \u001B[0mtheta\u001B[0m\u001B[0;34m,\u001B[0m \u001B[0malpha\u001B[0m\u001B[0;34m)\u001B[0m\u001B[0;34m\u001B[0m\u001B[0;34m\u001B[0m\u001B[0m\n\u001B[0m\u001B[1;32m     65\u001B[0m \u001B[0;34m\u001B[0m\u001B[0m\n\u001B[1;32m     66\u001B[0m     \u001B[0;31m# Return the hypothesis function associated to\u001B[0m\u001B[0;34m\u001B[0m\u001B[0;34m\u001B[0m\u001B[0;34m\u001B[0m\u001B[0m\n",
      "\u001B[0;32m<ipython-input-62-af691d810c4e>\u001B[0m in \u001B[0;36mgradient_descent\u001B[0;34m(x, y, theta, alpha)\u001B[0m\n\u001B[1;32m     38\u001B[0m     \u001B[0;32mfor\u001B[0m \u001B[0mj\u001B[0m \u001B[0;32min\u001B[0m \u001B[0mrange\u001B[0m\u001B[0;34m(\u001B[0m\u001B[0mn\u001B[0m\u001B[0;34m)\u001B[0m\u001B[0;34m:\u001B[0m\u001B[0;34m\u001B[0m\u001B[0;34m\u001B[0m\u001B[0m\n\u001B[1;32m     39\u001B[0m         \u001B[0;32mfor\u001B[0m \u001B[0mi\u001B[0m \u001B[0;32min\u001B[0m \u001B[0mrange\u001B[0m\u001B[0;34m(\u001B[0m\u001B[0mm\u001B[0m\u001B[0;34m)\u001B[0m\u001B[0;34m:\u001B[0m\u001B[0;34m\u001B[0m\u001B[0;34m\u001B[0m\u001B[0m\n\u001B[0;32m---> 40\u001B[0;31m             \u001B[0mnew_theta\u001B[0m\u001B[0;34m[\u001B[0m\u001B[0mj\u001B[0m\u001B[0;34m]\u001B[0m \u001B[0;34m+=\u001B[0m \u001B[0;34m(\u001B[0m\u001B[0mh\u001B[0m\u001B[0;34m(\u001B[0m\u001B[0mtheta\u001B[0m\u001B[0;34m)\u001B[0m\u001B[0;34m(\u001B[0m\u001B[0mx\u001B[0m\u001B[0;34m[\u001B[0m\u001B[0mi\u001B[0m\u001B[0;34m]\u001B[0m\u001B[0;34m)\u001B[0m \u001B[0;34m-\u001B[0m \u001B[0my\u001B[0m\u001B[0;34m[\u001B[0m\u001B[0mi\u001B[0m\u001B[0;34m]\u001B[0m\u001B[0;34m)\u001B[0m \u001B[0;34m*\u001B[0m \u001B[0mx\u001B[0m\u001B[0;34m[\u001B[0m\u001B[0mi\u001B[0m\u001B[0;34m]\u001B[0m\u001B[0;34m[\u001B[0m\u001B[0mj\u001B[0m\u001B[0;34m]\u001B[0m\u001B[0;34m\u001B[0m\u001B[0;34m\u001B[0m\u001B[0m\n\u001B[0m\u001B[1;32m     41\u001B[0m         \u001B[0mnew_theta\u001B[0m\u001B[0;34m[\u001B[0m\u001B[0mj\u001B[0m\u001B[0;34m]\u001B[0m \u001B[0;34m=\u001B[0m \u001B[0mtheta\u001B[0m\u001B[0;34m[\u001B[0m\u001B[0mj\u001B[0m\u001B[0;34m]\u001B[0m \u001B[0;34m-\u001B[0m \u001B[0;34m(\u001B[0m\u001B[0malpha\u001B[0m\u001B[0;34m/\u001B[0m\u001B[0mm\u001B[0m\u001B[0;34m)\u001B[0m \u001B[0;34m*\u001B[0m \u001B[0mnew_theta\u001B[0m\u001B[0;34m[\u001B[0m\u001B[0mj\u001B[0m\u001B[0;34m]\u001B[0m\u001B[0;34m\u001B[0m\u001B[0;34m\u001B[0m\u001B[0m\n\u001B[1;32m     42\u001B[0m \u001B[0;34m\u001B[0m\u001B[0m\n",
      "\u001B[0;32m~/projects/mlbook/venv/lib/python3.8/site-packages/pandas/core/frame.py\u001B[0m in \u001B[0;36m__getitem__\u001B[0;34m(self, key)\u001B[0m\n\u001B[1;32m   2798\u001B[0m             \u001B[0;32mif\u001B[0m \u001B[0mself\u001B[0m\u001B[0;34m.\u001B[0m\u001B[0mcolumns\u001B[0m\u001B[0;34m.\u001B[0m\u001B[0mnlevels\u001B[0m \u001B[0;34m>\u001B[0m \u001B[0;36m1\u001B[0m\u001B[0;34m:\u001B[0m\u001B[0;34m\u001B[0m\u001B[0;34m\u001B[0m\u001B[0m\n\u001B[1;32m   2799\u001B[0m                 \u001B[0;32mreturn\u001B[0m \u001B[0mself\u001B[0m\u001B[0;34m.\u001B[0m\u001B[0m_getitem_multilevel\u001B[0m\u001B[0;34m(\u001B[0m\u001B[0mkey\u001B[0m\u001B[0;34m)\u001B[0m\u001B[0;34m\u001B[0m\u001B[0;34m\u001B[0m\u001B[0m\n\u001B[0;32m-> 2800\u001B[0;31m             \u001B[0mindexer\u001B[0m \u001B[0;34m=\u001B[0m \u001B[0mself\u001B[0m\u001B[0;34m.\u001B[0m\u001B[0mcolumns\u001B[0m\u001B[0;34m.\u001B[0m\u001B[0mget_loc\u001B[0m\u001B[0;34m(\u001B[0m\u001B[0mkey\u001B[0m\u001B[0;34m)\u001B[0m\u001B[0;34m\u001B[0m\u001B[0;34m\u001B[0m\u001B[0m\n\u001B[0m\u001B[1;32m   2801\u001B[0m             \u001B[0;32mif\u001B[0m \u001B[0mis_integer\u001B[0m\u001B[0;34m(\u001B[0m\u001B[0mindexer\u001B[0m\u001B[0;34m)\u001B[0m\u001B[0;34m:\u001B[0m\u001B[0;34m\u001B[0m\u001B[0;34m\u001B[0m\u001B[0m\n\u001B[1;32m   2802\u001B[0m                 \u001B[0mindexer\u001B[0m \u001B[0;34m=\u001B[0m \u001B[0;34m[\u001B[0m\u001B[0mindexer\u001B[0m\u001B[0;34m]\u001B[0m\u001B[0;34m\u001B[0m\u001B[0;34m\u001B[0m\u001B[0m\n",
      "\u001B[0;32m~/projects/mlbook/venv/lib/python3.8/site-packages/pandas/core/indexes/base.py\u001B[0m in \u001B[0;36mget_loc\u001B[0;34m(self, key, method, tolerance)\u001B[0m\n\u001B[1;32m   2646\u001B[0m                 \u001B[0;32mreturn\u001B[0m \u001B[0mself\u001B[0m\u001B[0;34m.\u001B[0m\u001B[0m_engine\u001B[0m\u001B[0;34m.\u001B[0m\u001B[0mget_loc\u001B[0m\u001B[0;34m(\u001B[0m\u001B[0mkey\u001B[0m\u001B[0;34m)\u001B[0m\u001B[0;34m\u001B[0m\u001B[0;34m\u001B[0m\u001B[0m\n\u001B[1;32m   2647\u001B[0m             \u001B[0;32mexcept\u001B[0m \u001B[0mKeyError\u001B[0m\u001B[0;34m:\u001B[0m\u001B[0;34m\u001B[0m\u001B[0;34m\u001B[0m\u001B[0m\n\u001B[0;32m-> 2648\u001B[0;31m                 \u001B[0;32mreturn\u001B[0m \u001B[0mself\u001B[0m\u001B[0;34m.\u001B[0m\u001B[0m_engine\u001B[0m\u001B[0;34m.\u001B[0m\u001B[0mget_loc\u001B[0m\u001B[0;34m(\u001B[0m\u001B[0mself\u001B[0m\u001B[0;34m.\u001B[0m\u001B[0m_maybe_cast_indexer\u001B[0m\u001B[0;34m(\u001B[0m\u001B[0mkey\u001B[0m\u001B[0;34m)\u001B[0m\u001B[0;34m)\u001B[0m\u001B[0;34m\u001B[0m\u001B[0;34m\u001B[0m\u001B[0m\n\u001B[0m\u001B[1;32m   2649\u001B[0m         \u001B[0mindexer\u001B[0m \u001B[0;34m=\u001B[0m \u001B[0mself\u001B[0m\u001B[0;34m.\u001B[0m\u001B[0mget_indexer\u001B[0m\u001B[0;34m(\u001B[0m\u001B[0;34m[\u001B[0m\u001B[0mkey\u001B[0m\u001B[0;34m]\u001B[0m\u001B[0;34m,\u001B[0m \u001B[0mmethod\u001B[0m\u001B[0;34m=\u001B[0m\u001B[0mmethod\u001B[0m\u001B[0;34m,\u001B[0m \u001B[0mtolerance\u001B[0m\u001B[0;34m=\u001B[0m\u001B[0mtolerance\u001B[0m\u001B[0;34m)\u001B[0m\u001B[0;34m\u001B[0m\u001B[0;34m\u001B[0m\u001B[0m\n\u001B[1;32m   2650\u001B[0m         \u001B[0;32mif\u001B[0m \u001B[0mindexer\u001B[0m\u001B[0;34m.\u001B[0m\u001B[0mndim\u001B[0m \u001B[0;34m>\u001B[0m \u001B[0;36m1\u001B[0m \u001B[0;32mor\u001B[0m \u001B[0mindexer\u001B[0m\u001B[0;34m.\u001B[0m\u001B[0msize\u001B[0m \u001B[0;34m>\u001B[0m \u001B[0;36m1\u001B[0m\u001B[0;34m:\u001B[0m\u001B[0;34m\u001B[0m\u001B[0;34m\u001B[0m\u001B[0m\n",
      "\u001B[0;32mpandas/_libs/index.pyx\u001B[0m in \u001B[0;36mpandas._libs.index.IndexEngine.get_loc\u001B[0;34m()\u001B[0m\n",
      "\u001B[0;32mpandas/_libs/index.pyx\u001B[0m in \u001B[0;36mpandas._libs.index.IndexEngine.get_loc\u001B[0;34m()\u001B[0m\n",
      "\u001B[0;32mpandas/_libs/hashtable_class_helper.pxi\u001B[0m in \u001B[0;36mpandas._libs.hashtable.PyObjectHashTable.get_item\u001B[0;34m()\u001B[0m\n",
      "\u001B[0;32mpandas/_libs/hashtable_class_helper.pxi\u001B[0m in \u001B[0;36mpandas._libs.hashtable.PyObjectHashTable.get_item\u001B[0;34m()\u001B[0m\n",
      "\u001B[0;31mKeyError\u001B[0m: 0"
     ],
     "ename": "KeyError",
     "evalue": "0",
     "output_type": "error"
    }
   ],
   "source": [
    "spam_classifier = train(norm_x, norm_y, 100)\n",
    "spam_classifier"
   ],
   "metadata": {
    "collapsed": false,
    "pycharm": {
     "name": "#%%\n",
     "is_executing": false
    }
   }
  },
  {
   "cell_type": "code",
   "execution_count": 103,
   "outputs": [
    {
     "data": {
      "text/plain": "[2.8004833965621933e-07, 0.9999999999789702]"
     },
     "metadata": {},
     "output_type": "execute_result",
     "execution_count": 103
    }
   ],
   "source": [
    "# Get the first and last input rows\n",
    "x_data = inputs.iloc[[0, -1]].values\n",
    "# predict(x_data[0], x_stats, spam_classifier, boolean=False)\n",
    "\n",
    "# Get the associated numeric predictions\n",
    "y_data = [predict(x, x_stats, spam_classifier, boolean=False) for x in x_data]\n",
    "y_data"
   ],
   "metadata": {
    "collapsed": false,
    "pycharm": {
     "name": "#%%\n",
     "is_executing": false
    }
   }
  },
  {
   "cell_type": "code",
   "execution_count": 108,
   "outputs": [
    {
     "data": {
      "text/plain": "0.8636363636363636"
     },
     "metadata": {},
     "output_type": "execute_result",
     "execution_count": 108
    }
   ],
   "source": [
    "evaluate(inputs, outputs, x_stats, spam_classifier)"
   ],
   "metadata": {
    "collapsed": false,
    "pycharm": {
     "name": "#%%\n",
     "is_executing": false
    }
   }
  },
  {
   "cell_type": "code",
   "execution_count": 153,
   "outputs": [],
   "source": [
    "from tensorflow.keras.experimental import LinearModel\n",
    "\n",
    "columns = dataset_stats.keys()\n",
    "inputs = data.loc[:, columns[:2]]\n",
    "outputs = data.loc[:, columns[2:]]\n",
    "\n",
    "x_stats = inputs.describe().transpose()\n",
    "norm_x = normalize(inputs, x_stats)\n",
    "\n",
    "model = LinearModel(2, activation='sigmoid', dtype='float32')\n",
    "model.compile(optimizer='sgd', loss='sparse_categorical_crossentropy',\n",
    "              metrics=['accuracy', 'sparse_categorical_crossentropy'])\n",
    "history = model.fit(norm_x, outputs, epochs=700, verbose=0)"
   ],
   "metadata": {
    "collapsed": false,
    "pycharm": {
     "name": "#%%\n",
     "is_executing": false
    }
   }
  },
  {
   "cell_type": "code",
   "execution_count": 155,
   "outputs": [
    {
     "data": {
      "text/plain": "<Figure size 432x288 with 1 Axes>",
      "image/png": "[encoded data removed]"
     },
     "metadata": {
      "needs_background": "light"
     },
     "output_type": "display_data"
    }
   ],
   "source": [
    "epochs = history.epoch\n",
    "loss = history.history['loss']\n",
    "\n",
    "fig = plt.figure()\n",
    "plot = fig.add_subplot()\n",
    "plot.set_xlabel('epoch')\n",
    "plot.set_ylabel('loss')\n",
    "plot.plot(epochs, loss)\n"
   ],
   "metadata": {
    "collapsed": false,
    "pycharm": {
     "name": "#%%\n",
     "is_executing": false
    }
   }
  }
 ],
 "metadata": {
  "kernelspec": {
   "display_name": "Python 3",
   "language": "python",
   "name": "python3"
  },
  "language_info": {
   "codemirror_mode": {
    "name": "ipython",
    "version": 3
   },
   "file_extension": ".py",
   "mimetype": "text/x-python",
   "name": "python",
   "nbconvert_exporter": "python",
   "pygments_lexer": "ipython3",
   "version": "3.8.2"
  }
 },
 "nbformat": 4,
 "nbformat_minor": 1
}