{
 "cells": [
  {
   "cell_type": "markdown",
   "metadata": {},
   "source": [
    "Step 1: Load the house size and price data from CSV and plot it"
   ]
  },
  {
   "cell_type": "code",
   "execution_count": 1,
   "metadata": {
    "pycharm": {
     "is_executing": false
    }
   },
   "outputs": [
    {
     "data": {
      "text/plain": "<Figure size 432x288 with 1 Axes>",
      "image/png": "[encoded data removed]"
     },
     "metadata": {
      "needs_background": "light"
     },
     "output_type": "display_data"
    }
   ],
   "source": [
    "import pandas as pd\n",
    "import matplotlib.pyplot as plt\n",
    "from tensorflow.keras.utils import get_file\n",
    "\n",
    "csv_file = get_file('house-size-price-1.csv',\n",
    "                    'https://raw.githubusercontent.com/BlackLight/mlbook-code/master/datasets/house-size-price-1.csv')\n",
    "\n",
    "with open(csv_file) as f:\n",
    "    data = pd.read_csv(f)\n",
    "\n",
    "columns = data.keys()\n",
    "size = data[columns[0]]\n",
    "price = data[columns[1]]\n",
    "\n",
    "fig = plt.figure()\n",
    "plot = fig.add_subplot()\n",
    "plot.set_xlabel(columns[0])\n",
    "plot.set_ylabel(columns[1])\n",
    "points = plot.scatter(size, price)"
   ]
  },
  {
   "cell_type": "markdown",
   "source": [
    "Step 2: Get mean and standard deviation for size and price data"
   ],
   "metadata": {
    "collapsed": false
   }
  },
  {
   "cell_type": "code",
   "execution_count": 2,
   "outputs": [
    {
     "data": {
      "text/plain": "             size       price\ncount   13.000000   13.000000\nmean   109.538462  233.692308\nstd     45.686642   76.123129\nmin     50.000000  100.000000\n25%     67.000000  180.000000\n50%    109.000000  250.000000\n75%    150.000000  295.000000\nmax    180.000000  330.000000",
      "text/html": "<div>\n<style scoped>\n    .dataframe tbody tr th:only-of-type {\n        vertical-align: middle;\n    }\n\n    .dataframe tbody tr th {\n        vertical-align: top;\n    }\n\n    .dataframe thead th {\n        text-align: right;\n    }\n</style>\n<table border=\"1\" class=\"dataframe\">\n  <thead>\n    <tr style=\"text-align: right;\">\n      <th></th>\n      <th>size</th>\n      <th>price</th>\n    </tr>\n  </thead>\n  <tbody>\n    <tr>\n      <th>count</th>\n      <td>13.000000</td>\n      <td>13.000000</td>\n    </tr>\n    <tr>\n      <th>mean</th>\n      <td>109.538462</td>\n      <td>233.692308</td>\n    </tr>\n    <tr>\n      <th>std</th>\n      <td>45.686642</td>\n      <td>76.123129</td>\n    </tr>\n    <tr>\n      <th>min</th>\n      <td>50.000000</td>\n      <td>100.000000</td>\n    </tr>\n    <tr>\n      <th>25%</th>\n      <td>67.000000</td>\n      <td>180.000000</td>\n    </tr>\n    <tr>\n      <th>50%</th>\n      <td>109.000000</td>\n      <td>250.000000</td>\n    </tr>\n    <tr>\n      <th>75%</th>\n      <td>150.000000</td>\n      <td>295.000000</td>\n    </tr>\n    <tr>\n      <th>max</th>\n      <td>180.000000</td>\n      <td>330.000000</td>\n    </tr>\n  </tbody>\n</table>\n</div>"
     },
     "metadata": {},
     "output_type": "execute_result",
     "execution_count": 2
    }
   ],
   "source": [
    "dataset_stats = data.describe()\n",
    "dataset_stats"
   ],
   "metadata": {
    "collapsed": false,
    "pycharm": {
     "name": "#%%\n",
     "is_executing": false
    }
   }
  },
  {
   "cell_type": "markdown",
   "source": [
    "Step 3: Normalize the data"
   ],
   "metadata": {
    "collapsed": false
   }
  },
  {
   "cell_type": "code",
   "execution_count": 3,
   "metadata": {
    "pycharm": {
     "is_executing": false,
     "name": "#%%\n"
    }
   },
   "outputs": [],
   "source": [
    "def normalize(x, stats):\n",
    "    return (x - stats['mean']) / stats['std']\n",
    "\n",
    "def denormalize(x, stats):\n",
    "    return stats['std'] * x + stats['mean']"
   ]
  },
  {
   "cell_type": "code",
   "execution_count": 4,
   "outputs": [],
   "source": [
    "norm_size = normalize(size, dataset_stats['size'])\n",
    "norm_price = normalize(price, dataset_stats['price'])"
   ],
   "metadata": {
    "collapsed": false,
    "pycharm": {
     "name": "#%%\n",
     "is_executing": false
    }
   }
  },
  {
   "cell_type": "markdown",
   "source": [
    "Step 4: Define and train the linear regression model"
   ],
   "metadata": {
    "collapsed": false
   }
  },
  {
   "cell_type": "code",
   "execution_count": 1,
   "metadata": {
    "pycharm": {
     "is_executing": false,
     "name": "#%%\n"
    }
   },
   "outputs": [
    {
     "traceback": [
      "\u001b[0;31m---------------------------------------------------------------------------\u001b[0m",
      "\u001b[0;31mNameError\u001b[0m                                 Traceback (most recent call last)",
      "\u001b[0;32m<ipython-input-1-44f2d3cb1347>\u001b[0m in \u001b[0;36m<module>\u001b[0;34m\u001b[0m\n\u001b[1;32m      5\u001b[0m               metrics=['categorical_accuracy', 'binary_crossentropy'])\n\u001b[1;32m      6\u001b[0m \u001b[0;34m\u001b[0m\u001b[0m\n\u001b[0;32m----> 7\u001b[0;31m \u001b[0mhistory\u001b[0m \u001b[0;34m=\u001b[0m \u001b[0mmodel\u001b[0m\u001b[0;34m.\u001b[0m\u001b[0mfit\u001b[0m\u001b[0;34m(\u001b[0m\u001b[0mnorm_size\u001b[0m\u001b[0;34m,\u001b[0m \u001b[0mnorm_price\u001b[0m\u001b[0;34m,\u001b[0m \u001b[0mepochs\u001b[0m\u001b[0;34m=\u001b[0m\u001b[0;36m100\u001b[0m\u001b[0;34m,\u001b[0m \u001b[0mverbose\u001b[0m\u001b[0;34m=\u001b[0m\u001b[0;36m0\u001b[0m\u001b[0;34m)\u001b[0m\u001b[0;34m\u001b[0m\u001b[0;34m\u001b[0m\u001b[0m\n\u001b[0m\u001b[1;32m      8\u001b[0m \u001b[0;34m\u001b[0m\u001b[0m\n",
      "\u001b[0;31mNameError\u001b[0m: name 'norm_size' is not defined"
     ],
     "ename": "NameError",
     "evalue": "name 'norm_size' is not defined",
     "output_type": "error"
    }
   ],
   "source": [
    "from tensorflow.keras.experimental import LinearModel\n",
    "\n",
    "model = LinearModel(1, activation='linear', dtype='float32')\n",
    "model.compile(optimizer='rmsprop', loss='mse', metrics=['mae', 'mse'])\n",
    "history = model.fit(norm_size, norm_price, epochs=1000, verbose=0)"
   ]
  },
  {
   "cell_type": "markdown",
   "source": [
    "Step 5: Plot the progress of the loss function and evaluation metrics over the training phase"
   ],
   "metadata": {
    "collapsed": false
   }
  },
  {
   "cell_type": "code",
   "execution_count": 6,
   "outputs": [
    {
     "data": {
      "text/plain": "[<matplotlib.lines.Line2D at 0x7fa958031b20>]"
     },
     "metadata": {},
     "output_type": "execute_result",
     "execution_count": 6
    },
    {
     "data": {
      "text/plain": "<Figure size 432x288 with 1 Axes>",
      "image/png": "[encoded data removed]"
     },
     "metadata": {
      "needs_background": "light"
     },
     "output_type": "display_data"
    }
   ],
   "source": [
    "epochs = history.epoch\n",
    "loss = history.history['loss']\n",
    "\n",
    "fig = plt.figure()\n",
    "plot = fig.add_subplot()\n",
    "plot.set_xlabel('epoch')\n",
    "plot.set_ylabel('loss')\n",
    "plot.plot(epochs, loss)"
   ],
   "metadata": {
    "collapsed": false,
    "pycharm": {
     "name": "#%%\n",
     "is_executing": false
    }
   }
  },
  {
   "cell_type": "markdown",
   "source": [
    "Step 6: Evaluate the model"
   ],
   "metadata": {
    "collapsed": false
   }
  },
  {
   "cell_type": "code",
   "execution_count": 11,
   "outputs": [
    {
     "name": "stdout",
     "text": [
      "1/1 [==============================] - 0s 2ms/step - loss: 0.0733 - mae: 0.2395 - mse: 0.0733\b\b\b\b\b\b\b\b\b\b\b\b\b\b\b\b\b\b\b\b\b\b\b\b\b\b\b\b\b\b\b\b\b\b\b\b\b\b\b\b\b\b\b\b\b\b\b\b\b\b\b\b\b\b\b\b\b\b\b\b\b\b\b\b\b\b\b\b\b\b\b\b\b\b\b\b\b\b\b\b\b\b\b\b\b\n"
     ],
     "output_type": "stream"
    },
    {
     "data": {
      "text/plain": "[0.0733143761754036, 0.23947389423847198, 0.0733143761754036]"
     },
     "metadata": {},
     "output_type": "execute_result",
     "execution_count": 11
    }
   ],
   "source": [
    "model.evaluate(norm_size, norm_price)"
   ],
   "metadata": {
    "collapsed": false,
    "pycharm": {
     "name": "#%%\n",
     "is_executing": false
    }
   }
  },
  {
   "cell_type": "markdown",
   "source": [
    "Step 7: Plot the linear regression line given two points against the actual dataset"
   ],
   "metadata": {
    "collapsed": false
   }
  },
  {
   "cell_type": "code",
   "execution_count": 7,
   "outputs": [],
   "source": [
    "def predict_prices(*x):\n",
    "    x = normalize(x, dataset_stats['size'])\n",
    "    return denormalize(model.predict(x), dataset_stats['price'])"
   ],
   "metadata": {
    "collapsed": false,
    "pycharm": {
     "name": "#%%\n",
     "is_executing": false
    }
   }
  },
  {
   "cell_type": "code",
   "execution_count": 14,
   "outputs": [
    {
     "name": "stderr",
     "text": [
      "<ipython-input-14-40455b3a3cf3>:18: MatplotlibDeprecationWarning: Adding an axes using the same arguments as a previous axes currently reuses the earlier instance.  In a future version, a new instance will always be created and returned.  Meanwhile, this warning can be suppressed, and the future behavior ensured, by passing a unique label to each axes instance.\n",
      "  model_line = fig.add_subplot()\n"
     ],
     "output_type": "stream"
    },
    {
     "data": {
      "text/plain": "<Figure size 432x288 with 1 Axes>",
      "image/png": "[encoded data removed]"
     },
     "metadata": {
      "needs_background": "light"
     },
     "output_type": "display_data"
    }
   ],
   "source": [
    "# Draw the linear regression model as a line between the first and\n",
    "# the last element of the numeric series. x will contain the lowest\n",
    "# and highest size (assumption: the series is ordered) and y will\n",
    "# contain the price predictions for those inputs.\n",
    "x = [size[0], size.iat[-1]]\n",
    "y = [p[0] for p in predict_prices(*x)]\n",
    "\n",
    "# Create a new figure and plot both the input data points and the\n",
    "# linear model approximation.\n",
    "fig = plt.figure()\n",
    "\n",
    "data_points = fig.add_subplot()\n",
    "data_points.scatter(size, price)\n",
    "data_points.set_xlabel(columns[0])\n",
    "data_points.set_ylabel(columns[1])\n",
    "\n",
    "model_line = fig.add_subplot()\n",
    "model_line.plot(x, y, 'r')\n",
    "fig.savefig('/home/blacklight/evaluate-1.png')"
   ],
   "metadata": {
    "collapsed": false,
    "pycharm": {
     "name": "#%%\n",
     "is_executing": false
    }
   }
  },
  {
   "cell_type": "code",
   "execution_count": 15,
   "metadata": {
    "pycharm": {
     "is_executing": false,
     "name": "#%%\n"
    }
   },
   "outputs": [
    {
     "data": {
      "text/plain": "array([[202.5375]], dtype=float32)"
     },
     "metadata": {},
     "output_type": "execute_result",
     "execution_count": 15
    }
   ],
   "source": [
    "predict_prices(90)"
   ]
  },
  {
   "cell_type": "markdown",
   "source": [
    "Step 8: Save the model and it labels"
   ],
   "metadata": {
    "collapsed": false
   }
  },
  {
   "cell_type": "code",
   "execution_count": 23,
   "outputs": [],
   "source": [
    "def model_save(model_dir, overwrite=True):\n",
    "    import json\n",
    "    import os\n",
    "    os.makedirs(model_dir, exist_ok=True)\n",
    "\n",
    "    # The TensorFlow model save won't keep track of the labels of your model.\n",
    "    # It's usually a good practice to store them in a separate JSON file.\n",
    "    labels_file = os.path.join(model_dir, 'labels.json')\n",
    "    with open(labels_file, 'w') as f:\n",
    "        f.write(json.dumps(list(columns)))\n",
    "\n",
    "    # Also, you may want to keep track of the x and y mean and\n",
    "    # standard deviation to correctly normalize/de-normalize your data\n",
    "    # before/after feeding it to the model.\n",
    "    stats = [\n",
    "        dict(dataset_stats['size']),\n",
    "        dict(dataset_stats['price']),\n",
    "    ]\n",
    "\n",
    "    stats_file = os.path.join(model_dir, 'stats.json')\n",
    "    with open(stats_file, 'w') as f:\n",
    "        f.write(json.dumps(stats))\n",
    "\n",
    "    # Then, save the TensorFlow model using the save primitive\n",
    "    model.save(model_dir, overwrite=overwrite)\n",
    "\n",
    "\n",
    "model_dir = '/home/blacklight/models/linear-regression-1'"
   ],
   "metadata": {
    "collapsed": false,
    "pycharm": {
     "name": "#%%\n",
     "is_executing": false
    }
   }
  },
  {
   "cell_type": "code",
   "execution_count": 24,
   "outputs": [
    {
     "name": "stdout",
     "text": [
      "INFO:tensorflow:Assets written to: /home/blacklight/models/linear-regression-1/assets\n"
     ],
     "output_type": "stream"
    }
   ],
   "source": [
    "model_save(model_dir)"
   ],
   "metadata": {
    "collapsed": false,
    "pycharm": {
     "name": "#%%\n",
     "is_executing": false
    }
   }
  },
  {
   "cell_type": "markdown",
   "source": [
    "Step 10: Load the model"
   ],
   "metadata": {
    "collapsed": false,
    "pycharm": {
     "name": "#%% md\n"
    }
   }
  },
  {
   "cell_type": "code",
   "source": [
    "def model_load(model_dir):\n",
    "    import json\n",
    "    import os\n",
    "    from tensorflow.keras.models import load_model\n",
    "\n",
    "    labels = []\n",
    "    labels_file = os.path.join(model_dir, 'labels.json')\n",
    "\n",
    "    if os.path.isfile(labels_file):\n",
    "        with open(labels_file) as f:\n",
    "            labels = json.load(f)\n",
    "\n",
    "    stats = []\n",
    "    stats_file = os.path.join(model_dir, 'stats.json')\n",
    "\n",
    "    if os.path.isfile(stats_file):\n",
    "        with open(stats_file) as f:\n",
    "            stats = json.load(f)\n",
    "\n",
    "    m = load_model(model_dir)\n",
    "    return m, stats, labels"
   ],
   "metadata": {
    "collapsed": false,
    "pycharm": {
     "name": "#%%\n",
     "is_executing": false
    }
   },
   "execution_count": 20,
   "outputs": []
  },
  {
   "cell_type": "code",
   "execution_count": 25,
   "outputs": [],
   "source": [
    "model, stats, labels = model_load(model_dir)"
   ],
   "metadata": {
    "collapsed": false,
    "pycharm": {
     "name": "#%%\n",
     "is_executing": false
    }
   }
  },
  {
   "cell_type": "code",
   "execution_count": 27,
   "outputs": [
    {
     "name": "stdout",
     "text": [
      "[[202.5375]]\n"
     ],
     "output_type": "stream"
    }
   ],
   "source": [
    "size = 90\n",
    "price = predict_prices(size)\n",
    "print(price)"
   ],
   "metadata": {
    "collapsed": false,
    "pycharm": {
     "name": "#%%\n",
     "is_executing": false
    }
   }
  },
  {
   "cell_type": "code",
   "execution_count": 24,
   "outputs": [
    {
     "name": "stdout",
     "text": [
      "13\n",
      "[206.08382401]\n"
     ],
     "output_type": "stream"
    }
   ],
   "source": [
    "import numpy as np\n",
    "\n",
    "def gradient_descent(x, y, theta, alpha):\n",
    "    m = len(x)\n",
    "    n = len(theta)\n",
    "    new_theta = np.zeros(n)\n",
    "\n",
    "    # Perform the gradient descent on theta\n",
    "    for i in range(m):\n",
    "        # Calculate s = (theta[0]*x[0] + theta[1]*x[1] + ...\n",
    "        #              + theta[n]*x[n]) - y[i]\n",
    "        s = theta[0]\n",
    "        for j in range(1, n):\n",
    "            s += theta[j]*x[i][j-1]\n",
    "        s -= y[i]\n",
    "\n",
    "        new_theta[0] += s\n",
    "        for j in range(1, n):\n",
    "            new_theta[j] += s * x[i][j-1]\n",
    "\n",
    "    return theta - (alpha/m) * new_theta\n",
    "\n",
    "def train(x, y, steps, alpha=0.001):\n",
    "    # Initialize theta randomly\n",
    "    theta = np.random.randint(low=0, high=10, size=len(x[0])+1)\n",
    "\n",
    "    # Perform the gradient descent <steps> times\n",
    "    for i in range(steps):\n",
    "        theta = gradient_descent(x, y, theta, alpha)\n",
    "\n",
    "    # Return the linear function associated to theta\n",
    "    def model(x):\n",
    "        y = theta[0]\n",
    "        for i in range(len(theta)-1):\n",
    "            y += theta[i+1] * x[i]\n",
    "        return y\n",
    "\n",
    "    return model\n",
    "\n",
    "print(norm_size.size)\n",
    "m = train([[s] for s in norm_size], norm_price, 5000)\n",
    "x = normalize([[90]], dataset_stats['size'])\n",
    "p = m(x)\n",
    "p = denormalize(p, dataset_stats['price'])\n",
    "print(p)"
   ],
   "metadata": {
    "collapsed": false,
    "pycharm": {
     "name": "#%%\n",
     "is_executing": false
    }
   }
  },
  {
   "cell_type": "code",
   "execution_count": 46,
   "outputs": [
    {
     "data": {
      "text/plain": "array([1., 2., 3.])"
     },
     "metadata": {},
     "output_type": "execute_result",
     "execution_count": 46
    }
   ],
   "source": [],
   "metadata": {
    "collapsed": false,
    "pycharm": {
     "name": "#%%%\n",
     "is_executing": false
    }
   }
  }
 ],
 "metadata": {
  "kernelspec": {
   "display_name": "Python 3",
   "language": "python",
   "name": "python3"
  },
  "language_info": {
   "codemirror_mode": {
    "name": "ipython",
    "version": 3
   },
   "file_extension": ".py",
   "mimetype": "text/x-python",
   "name": "python",
   "nbconvert_exporter": "python",
   "pygments_lexer": "ipython3",
   "version": "3.8.2"
  },
  "pycharm": {
   "stem_cell": {
    "cell_type": "raw",
    "source": [],
    "metadata": {
     "collapsed": false
    }
   }
  }
 },
 "nbformat": 4,
 "nbformat_minor": 1
}