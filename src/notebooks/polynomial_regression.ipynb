{
 "cells": [
  {
   "cell_type": "markdown",
   "metadata": {},
   "source": [
    "Step 1: Load the house size and price data from CSV and plot it"
   ]
  },
  {
   "cell_type": "code",
   "execution_count": 13,
   "metadata": {
    "pycharm": {
     "is_executing": false
    }
   },
   "outputs": [
    {
     "data": {
      "text/plain": "<Figure size 432x288 with 1 Axes>",
      "image/png": "[encoded data removed]"
     },
     "metadata": {
      "needs_background": "light"
     },
     "output_type": "display_data"
    }
   ],
   "source": [
    "import pandas as pd\n",
    "import matplotlib.pyplot as plt\n",
    "from tensorflow.keras.utils import get_file\n",
    "\n",
    "csv_file = get_file('house-size-price-2.csv',\n",
    "                    'https://raw.githubusercontent.com/BlackLight/mlbook-code/master/datasets/house-size-price-2.csv')\n",
    "\n",
    "with open(csv_file) as f:\n",
    "    data = pd.read_csv(f)\n",
    "\n",
    "columns = data.keys()\n",
    "size = data[columns[0]]\n",
    "price = data[columns[1]]\n",
    "\n",
    "fig = plt.figure()\n",
    "plot = fig.add_subplot()\n",
    "plot.set_xlabel(columns[0])\n",
    "plot.set_ylabel(columns[1])\n",
    "points = plot.scatter(size, price)\n",
    "fig.savefig('/home/blacklight/non-linear-1.png')"
   ]
  },
  {
   "cell_type": "markdown",
   "source": [
    "Step 2: Get mean and standard deviation for size and price data"
   ],
   "metadata": {
    "collapsed": false
   }
  },
  {
   "cell_type": "code",
   "execution_count": 2,
   "outputs": [
    {
     "data": {
      "text/plain": "             size       price\ncount   13.000000   13.000000\nmean   109.538462  233.692308\nstd     45.686642   76.123129\nmin     50.000000  100.000000\n25%     67.000000  180.000000\n50%    109.000000  250.000000\n75%    150.000000  295.000000\nmax    180.000000  330.000000",
      "text/html": "<div>\n<style scoped>\n    .dataframe tbody tr th:only-of-type {\n        vertical-align: middle;\n    }\n\n    .dataframe tbody tr th {\n        vertical-align: top;\n    }\n\n    .dataframe thead th {\n        text-align: right;\n    }\n</style>\n<table border=\"1\" class=\"dataframe\">\n  <thead>\n    <tr style=\"text-align: right;\">\n      <th></th>\n      <th>size</th>\n      <th>price</th>\n    </tr>\n  </thead>\n  <tbody>\n    <tr>\n      <th>count</th>\n      <td>13.000000</td>\n      <td>13.000000</td>\n    </tr>\n    <tr>\n      <th>mean</th>\n      <td>109.538462</td>\n      <td>233.692308</td>\n    </tr>\n    <tr>\n      <th>std</th>\n      <td>45.686642</td>\n      <td>76.123129</td>\n    </tr>\n    <tr>\n      <th>min</th>\n      <td>50.000000</td>\n      <td>100.000000</td>\n    </tr>\n    <tr>\n      <th>25%</th>\n      <td>67.000000</td>\n      <td>180.000000</td>\n    </tr>\n    <tr>\n      <th>50%</th>\n      <td>109.000000</td>\n      <td>250.000000</td>\n    </tr>\n    <tr>\n      <th>75%</th>\n      <td>150.000000</td>\n      <td>295.000000</td>\n    </tr>\n    <tr>\n      <th>max</th>\n      <td>180.000000</td>\n      <td>330.000000</td>\n    </tr>\n  </tbody>\n</table>\n</div>"
     },
     "metadata": {},
     "output_type": "execute_result",
     "execution_count": 2
    }
   ],
   "source": [
    "dataset_stats = data.describe()\n",
    "dataset_stats"
   ],
   "metadata": {
    "collapsed": false,
    "pycharm": {
     "name": "#%%\n",
     "is_executing": false
    }
   }
  },
  {
   "cell_type": "markdown",
   "source": [
    "Step 3: Normalize the data"
   ],
   "metadata": {
    "collapsed": false
   }
  },
  {
   "cell_type": "code",
   "execution_count": 3,
   "metadata": {
    "pycharm": {
     "is_executing": false,
     "name": "#%%\n"
    }
   },
   "outputs": [],
   "source": [
    "def normalize(x, stats):\n",
    "    return (x - stats['mean']) / stats['std']\n",
    "\n",
    "def denormalize(x, stats):\n",
    "    return stats['std'] * x + stats['mean']"
   ]
  },
  {
   "cell_type": "code",
   "execution_count": 4,
   "outputs": [],
   "source": [
    "norm_size = normalize(size, dataset_stats['size'])\n",
    "norm_price = normalize(price, dataset_stats['price'])"
   ],
   "metadata": {
    "collapsed": false,
    "pycharm": {
     "name": "#%%\n",
     "is_executing": false
    }
   }
  },
  {
   "cell_type": "markdown",
   "source": [],
   "metadata": {
    "collapsed": false,
    "pycharm": {
     "name": "#%% md\n"
    }
   }
  }
 ],
 "metadata": {
  "kernelspec": {
   "display_name": "Python 3",
   "language": "python",
   "name": "python3"
  },
  "language_info": {
   "codemirror_mode": {
    "name": "ipython",
    "version": 3
   },
   "file_extension": ".py",
   "mimetype": "text/x-python",
   "name": "python",
   "nbconvert_exporter": "python",
   "pygments_lexer": "ipython3",
   "version": "3.8.2"
  },
  "pycharm": {
   "stem_cell": {
    "cell_type": "raw",
    "source": [],
    "metadata": {
     "collapsed": false
    }
   }
  }
 },
 "nbformat": 4,
 "nbformat_minor": 1
}